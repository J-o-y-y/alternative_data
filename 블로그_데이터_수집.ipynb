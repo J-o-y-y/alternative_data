{
  "nbformat": 4,
  "nbformat_minor": 0,
  "metadata": {
    "colab": {
      "provenance": [],
      "authorship_tag": "ABX9TyMLvu5Bhr4UThP7tWcK03Ea",
      "include_colab_link": true
    },
    "kernelspec": {
      "name": "python3",
      "display_name": "Python 3"
    },
    "language_info": {
      "name": "python"
    }
  },
  "cells": [
    {
      "cell_type": "markdown",
      "metadata": {
        "id": "view-in-github",
        "colab_type": "text"
      },
      "source": [
        "<a href=\"https://colab.research.google.com/github/J-o-y-y/alternative_data/blob/main/%EB%B8%94%EB%A1%9C%EA%B7%B8_%EB%8D%B0%EC%9D%B4%ED%84%B0_%EC%88%98%EC%A7%91.ipynb\" target=\"_parent\"><img src=\"https://colab.research.google.com/assets/colab-badge.svg\" alt=\"Open In Colab\"/></a>"
      ]
    },
    {
      "cell_type": "code",
      "execution_count": 3,
      "metadata": {
        "id": "Sk_u5yXf8CCH"
      },
      "outputs": [],
      "source": [
        "# 20231003, 블로그_데이터_수집\n",
        "\n",
        "import requests\n",
        "import pandas as pd\n",
        "from bs4 import BeautifulSoup"
      ]
    },
    {
      "cell_type": "code",
      "source": [
        "\n",
        "keyword = \"솔트룩스\"\n",
        "startdate=\"2022.09.03\"\n",
        "enddate=\"2023.10.03\"\n",
        "\n",
        "def get_news_list(keyword, startdate, enddate) :\n",
        "  li = []\n",
        "  headers = {'User-Agent':'Mozilla/5.0 (Windows NT 10.0; Win64; x64) AppleWebKit/537.36 (KHTML, like Gecko) Chrome/117.0.0.0 Safari/537.36'}\n",
        "  for d in pd.date_range(startdate, enddate) :\n",
        "    str_d = d.strftime(\"%Y.%m.%d\")\n",
        "    page = 1\n",
        "    print(str_d)\n",
        "    while True:\n",
        "      start = (page-1)*10 + 1\n",
        "      print(page)\n",
        "      URL = \"https://blog.naver.com/medosam/223225672612\".format(keyword, str_d, str_d, str_d.replace(\".\",\"\"), str_d.replace(\".\",\"\"), start)\n",
        "\n",
        "      res = requests.get(URL,headers = h)\n",
        "      soup = BeautifulSoup(res.text, \"html.parser\")\n",
        "\n",
        "      if soup.select_one(\".api_noresult_wrap\") :\n",
        "        break\n",
        "\n",
        "      news_list = soup.select(\"ul.list_news li\")\n",
        "\n",
        "      for item in news_list :\n",
        "        if len(item.select(\"div.info_group a\")) == 2 :\n",
        "          li.append(get_news(item.select(\"div.info_group a\")[1]['href']))\n",
        "      page = page + 1\n",
        "\n",
        "  return pd.DataFrame(li, columns=['title','date','media','content','url'])"
      ],
      "metadata": {
        "id": "jS4UmMdC8jse"
      },
      "execution_count": 6,
      "outputs": []
    },
    {
      "cell_type": "code",
      "source": [
        "\n",
        "def get_blog(URL) :\n",
        "  h = {'User-Agent':'Mozilla/5.0 (Windows NT 10.0; Win64; x64) AppleWebKit/537.36 (KHTML, like Gecko) Chrome/117.0.0.0 Safari/537.36'}\n",
        "  tmp = URL.split('/')\n",
        "  Blog_URL = \"https://blog.naver.com/medosam/223225672612\".format(tmp[-2], tmp[-1])\n",
        "\n",
        "  res = requests.get(Blog_URL, headers = h)\n",
        "  soup = BeautifulSoup(res.text, \"html.parser\")\n",
        "\n",
        "  if soup.select_one(\".se-title-text\") :\n",
        "    title = soup.select_one(\".se-title-text > p > span\").text\n",
        "    category = soup.select_one(\".blog2_series > a\").text\n",
        "    nick = soup.select_one(\".nick > a\").text\n",
        "    date = soup.select_one(\".se_publishDate\").text\n",
        "    content = soup.select_one(\".se-main-container\").text.replace(\"\\n\",\"\")\n",
        "  elif soup.select_one(\"h3.se_textarea\") :\n",
        "    title = soup.select_one(\"h3.se_textarea\").text\n",
        "    category = soup.select_one(\".blog2_series > a\").text\n",
        "    nick = soup.select_one(\".nick > a\").text\n",
        "    date = soup.select_one(\".se_publishDate\").text\n",
        "    content = soup.select_one(\".se_doc_viewer\").text.replace(\"\\n\",\"\")\n",
        "  else :\n",
        "    return None\n",
        "\n",
        "  return (title, category, nick, date, content, URL)"
      ],
      "metadata": {
        "id": "1AmjCbNIOmKh"
      },
      "execution_count": 10,
      "outputs": []
    },
    {
      "cell_type": "code",
      "source": [
        "get_blog('https://blog.naver.com/medosam/223225672612')"
      ],
      "metadata": {
        "id": "UKIrtGTLOxuh"
      },
      "execution_count": 12,
      "outputs": []
    },
    {
      "cell_type": "code",
      "source": [
        "import requests\n",
        "import pandas as pd\n",
        "from bs4 import BeautifulSoup\n",
        "from tqdm.notebook import tqdm as tqdm\n",
        "\n",
        "keyword = \"솔트룩스\"\n",
        "startdate = \"20231001\"\n",
        "enddate = \"20231003\"\n",
        "\n",
        "def get_blog_list(keyword, startdate, enddate) :\n",
        "  start = 1\n",
        "  URL = 'https://s.search.naver.com/p/blog/search.naver?where=blog&sm=tab_pge&api_type=1&query={0}&rev=44&start={1}&dup_remove=1&post_blogurl=&post_blogurl_without=&nso=so%3Add%2Cp%3Afrom{2}to{3}&nlu_query=%7B%22r_category%22%3A%2233+25%22%7D&dkey=0&source_query=&nx_search_query={0}&spq=0&_callback=viewMoreContents'.format(keyword, start, startdate, enddate)\n",
        "\n",
        "  h = {'User-Agent':'Mozilla/5.0 (Windows NT 10.0; Win64; x64) AppleWebKit/537.36 (KHTML, like Gecko) Chrome/117.0.0.0 Safari/537.36'}\n",
        "  res = requests.get(URL, headers = h)\n",
        "\n",
        "  total_page = int(res.text[28:].split('\\\"')[0])//30+1\n",
        "\n",
        "  total_page = 10\n",
        "\n",
        "  li = []\n",
        "\n",
        "  for page in tqdm(range(1, total_page+1), desc=\"get_blog_list\") :\n",
        "    start = 30*(page-1)+1\n",
        "    URL = 'https://search.naver.com/search.naver?where=view&query=%EC%86%94%ED%8A%B8%EB%A3%A9%EC%8A%A4&sm=tab_opt&nso=so%3Ar%2Cp%3A1m%2Ca%3Aall&mode=normal&main_q=&st_coll=&topic_r_cat='\n",
        "    res = requests.get(URL, headers = h)\n",
        "    soup = BeautifulSoup(res.text.replace(\"\\\\\",\"\"), \"html.parser\")\n",
        "    for item in soup.select('li div.total_area > a') :\n",
        "      try :\n",
        "        li.append(get_blog(item['href']))\n",
        "      except :\n",
        "        print(item['href'])\n",
        "\n",
        "  return pd.DataFrame(li, columns=['title','category','nick','date','content', 'url'])"
      ],
      "metadata": {
        "id": "z8HgGKwOUOzS"
      },
      "execution_count": 17,
      "outputs": []
    },
    {
      "cell_type": "code",
      "source": [
        "get_blog_list(keyword, startdate, enddate)"
      ],
      "metadata": {
        "id": "W4zRZDulVhmE"
      },
      "execution_count": null,
      "outputs": []
    },
    {
      "cell_type": "code",
      "source": [
        "list(range(1,48+1))"
      ],
      "metadata": {
        "colab": {
          "base_uri": "https://localhost:8080/"
        },
        "id": "YHBj2CG8VkFt",
        "outputId": "a1665c1d-40a7-4412-cee4-173ce365e5b8"
      },
      "execution_count": 19,
      "outputs": [
        {
          "output_type": "execute_result",
          "data": {
            "text/plain": [
              "[1,\n",
              " 2,\n",
              " 3,\n",
              " 4,\n",
              " 5,\n",
              " 6,\n",
              " 7,\n",
              " 8,\n",
              " 9,\n",
              " 10,\n",
              " 11,\n",
              " 12,\n",
              " 13,\n",
              " 14,\n",
              " 15,\n",
              " 16,\n",
              " 17,\n",
              " 18,\n",
              " 19,\n",
              " 20,\n",
              " 21,\n",
              " 22,\n",
              " 23,\n",
              " 24,\n",
              " 25,\n",
              " 26,\n",
              " 27,\n",
              " 28,\n",
              " 29,\n",
              " 30,\n",
              " 31,\n",
              " 32,\n",
              " 33,\n",
              " 34,\n",
              " 35,\n",
              " 36,\n",
              " 37,\n",
              " 38,\n",
              " 39,\n",
              " 40,\n",
              " 41,\n",
              " 42,\n",
              " 43,\n",
              " 44,\n",
              " 45,\n",
              " 46,\n",
              " 47,\n",
              " 48]"
            ]
          },
          "metadata": {},
          "execution_count": 19
        }
      ]
    }
  ]
}