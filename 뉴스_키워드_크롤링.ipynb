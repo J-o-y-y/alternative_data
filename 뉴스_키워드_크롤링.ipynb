{
  "nbformat": 4,
  "nbformat_minor": 0,
  "metadata": {
    "colab": {
      "provenance": [],
      "authorship_tag": "ABX9TyNrAbExonoLK/AX8QS8DCNv",
      "include_colab_link": true
    },
    "kernelspec": {
      "name": "python3",
      "display_name": "Python 3"
    },
    "language_info": {
      "name": "python"
    }
  },
  "cells": [
    {
      "cell_type": "markdown",
      "metadata": {
        "id": "view-in-github",
        "colab_type": "text"
      },
      "source": [
        "<a href=\"https://colab.research.google.com/github/J-o-y-y/alternative_data/blob/main/%EB%89%B4%EC%8A%A4_%ED%82%A4%EC%9B%8C%EB%93%9C_%ED%81%AC%EB%A1%A4%EB%A7%81.ipynb\" target=\"_parent\"><img src=\"https://colab.research.google.com/assets/colab-badge.svg\" alt=\"Open In Colab\"/></a>"
      ]
    },
    {
      "cell_type": "code",
      "execution_count": null,
      "metadata": {
        "id": "kmw5yluzH3i_"
      },
      "outputs": [],
      "source": [
        "# 뉴스 데이터 수집 연습 (솔트룩스)\n",
        "\n",
        "import requests\n",
        "from bs4 import BeautifulSoup"
      ]
    },
    {
      "cell_type": "code",
      "source": [
        "url = \"https://newsis.com/view/?id=NISX20230927_0002467270&cID=10406&pID=13100\""
      ],
      "metadata": {
        "id": "wHsRaAn0ORnV"
      },
      "execution_count": null,
      "outputs": []
    },
    {
      "cell_type": "code",
      "source": [
        "\n",
        "\n",
        "\n",
        "html = '<h1 class=\"tit title_area\">[K-AI 열전③] 한국판 오픈AI 있다…중소·스타트업의 세계 도전</h1>'\n",
        "\n",
        "soup = BeautifulSoup(html, \"html.parser\")\n",
        "title = soup.find(\"h1\", class_=\"tit title_area\").text.strip()\n",
        "\n",
        "print(\"기사 제목:\", title)\n"
      ],
      "metadata": {
        "colab": {
          "base_uri": "https://localhost:8080/"
        },
        "id": "RrHKHAyH7FO-",
        "outputId": "7526ef4f-20ff-4c96-8084-f98cbf62fd1f"
      },
      "execution_count": null,
      "outputs": [
        {
          "output_type": "stream",
          "name": "stdout",
          "text": [
            "기사 제목: [K-AI 열전③] 한국판 오픈AI 있다…중소·스타트업의 세계 도전\n"
          ]
        }
      ]
    },
    {
      "cell_type": "code",
      "source": [
        "\n",
        "html = '<span>수정 2023.09.30 16:12:05</span>'\n",
        "\n",
        "soup = BeautifulSoup(html, \"html.parser\")\n",
        "date_text = soup.find(\"span\").text\n",
        "\n",
        "date = date_text.replace(\"수정 \", \"\")\n",
        "\n",
        "print(\"기사 날짜:\", date)\n"
      ],
      "metadata": {
        "colab": {
          "base_uri": "https://localhost:8080/"
        },
        "id": "w7Jjebps7JRt",
        "outputId": "2eda7509-ddcb-41a2-eb4d-8959ecd872cc"
      },
      "execution_count": null,
      "outputs": [
        {
          "output_type": "stream",
          "name": "stdout",
          "text": [
            "기사 날짜: 2023.09.30 16:12:05\n"
          ]
        }
      ]
    },
    {
      "cell_type": "code",
      "source": [
        "\n",
        "url = 'https://news.naver.com/main/read.naver?mode=LSD&mid=sec&sid1=105&oid=001&aid=0013001213'\n",
        "\n",
        "response = requests.get(url)\n",
        "\n",
        "if response.status_code == 200:\n",
        "\n",
        "    soup = BeautifulSoup(response.text, 'html.parser')\n",
        "\n",
        "    title = soup.find('h3', id='articleTitle').get_text()\n",
        "\n",
        "    content = soup.find('div', id='articleBodyContents').get_text()\n",
        "\n",
        "    content = content.replace(\"\\n\", \"\").replace(\"\\t\", \"\").strip()\n",
        "\n",
        "    print(\"기사 제목:\", title)\n",
        "    print(\"기사 내용:\", content)\n"
      ],
      "metadata": {
        "id": "UZa9kseT7RGc"
      },
      "execution_count": null,
      "outputs": []
    }
  ]
}